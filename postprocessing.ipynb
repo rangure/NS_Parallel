{
 "cells": [
  {
   "cell_type": "code",
   "execution_count": 1,
   "id": "b0ab7237",
   "metadata": {},
   "outputs": [],
   "source": [
    "%precision 3\n",
    "%matplotlib inline\n",
    "import numpy as np\n",
    "import matplotlib.pyplot as plt\n",
    "import pandas as pd\n",
    "from matplotlib import cm\n",
    "import os\n",
    "import imageio"
   ]
  },
  {
   "cell_type": "code",
   "execution_count": 2,
   "id": "62f445e1",
   "metadata": {},
   "outputs": [],
   "source": [
    "# Read dimension data from configuration file\n",
    "config_f = open(f\"out/config_file.dat\")\n",
    "datalist = []\n",
    "for i in config_f.readlines():\n",
    "    l = i.split()\n",
    "    datalist.append(float(l[1]))\n",
    "Nx = int(datalist[0])\n",
    "Ny = int(datalist[1])\n",
    "Lx = datalist[2]\n",
    "Ly = datalist[3]\n",
    "dimx = int(datalist[4])\n",
    "dimy = int(datalist[5])\n",
    "# hence the mesh spacing\n",
    "dx = Lx/(Nx-1)\n",
    "dy = Ly/(Ny-1)\n",
    "lenx = int(Nx//dimx)\n",
    "leny = int(Ny//dimy)\n",
    "X, Y = np.mgrid[0:Nx:1, 0:Ny:1]\n",
    "X = dx*X\n",
    "Y = dy*Y\n",
    "try:\n",
    "    os.mkdir(\"img\")\n",
    "except OSError as error:\n",
    "    print(error)    \n",
    "try:\n",
    "    os.mkdir(\"result_data\")\n",
    "except OSError as error:\n",
    "    print(error)  \n",
    "try:\n",
    "    os.mkdir(\"gifs\")\n",
    "except OSError as error:\n",
    "    print(error)    "
   ]
  },
  {
   "cell_type": "code",
   "execution_count": 3,
   "id": "4967259d",
   "metadata": {},
   "outputs": [],
   "source": [
    "allfile = os.listdir(\"out\")\n",
    "fileinfo = pd.DataFrame(columns=['id', 'feild', 'time', 'name'])\n",
    "for i in allfile:\n",
    "    temp = i.split(\".\")[0].split(\"_\")\n",
    "    if temp[0] != 'id':\n",
    "        continue\n",
    "    fileinfo.loc[len(fileinfo)]=[int(temp[1]),temp[2],int(temp[3]),i]"
   ]
  },
  {
   "cell_type": "code",
   "execution_count": 4,
   "id": "332f1885",
   "metadata": {},
   "outputs": [],
   "source": [
    "for it in range(max(fileinfo['time'])+1):\n",
    "    cur_df = fileinfo[fileinfo['time']==it]\n",
    "    if len(cur_df) != dimx*dimy*3:\n",
    "        raise Exception(f\"missing file for time {it}\")\n",
    "    for feildname in ['P','u','v']:\n",
    "        feild_df = cur_df[cur_df[\"feild\"]==feildname]\n",
    "        toplot = np.zeros([Nx,Ny])\n",
    "        if len(feild_df) != dimx*dimy:\n",
    "            raise Exception(f\"missing file for feild {feildname}\")\n",
    "        for j,process in feild_df.iterrows():\n",
    "            cur_file = open(\"out/\"+process[\"name\"],\"r\")\n",
    "            data = []\n",
    "            for i in cur_file.readlines():\n",
    "                temp =[float(j) for j in i.split()]\n",
    "                data.append(temp)\n",
    "            data = np.array(data)\n",
    "            idx_x = process[\"id\"]%dimx\n",
    "            idx_y = process[\"id\"]//dimx\n",
    "            start_x = idx_x*lenx+1\n",
    "            start_y = idx_y*leny+1\n",
    "            curlen_x = len(data)-2\n",
    "            curlen_y = len(data[0])-2\n",
    "            toplot[start_x:start_x+curlen_x,start_y:start_y+curlen_y ] = data[1:-1,1:-1]\n",
    "            if(idx_x == 0):\n",
    "                toplot[0,start_y-1:start_y+curlen_y+1 ] = data[0,:]\n",
    "            if(idx_x == dimx-1):\n",
    "                toplot[-1,start_y-1:start_y+curlen_y+1 ] = data[-1,:]\n",
    "            if(idx_y == dimy-1):\n",
    "                toplot[start_x-1:start_x+curlen_x+1, -1 ] = data[:,-1]\n",
    "            if(idx_y == 0):\n",
    "                toplot[start_x-1:start_x+curlen_x+1, 0 ] = data[:,0]\n",
    "            cur_file.close()\n",
    "        combined = open(f\"result_data/{feildname}_{it}.dat\", 'w')\n",
    "        np.savetxt(combined,toplot,fmt='%.8f')\n",
    "        combined.close()\n",
    "        \n",
    "        fig = plt.figure(figsize=(21, 7))\n",
    "        ax1 = fig.add_subplot(121)\n",
    "        cont = ax1.contourf(X,Y,toplot, cmap=cm.coolwarm)\n",
    "        fig.colorbar(cont)\n",
    "        # # don't plot at every gird point - every 5th\n",
    "        # ax1.quiver(X[::20,::5],Y[::20,::5],uc[::20,::5],vc[::20,::5])\n",
    "        ax1.set_xlim(0, 0.1)\n",
    "        ax1.set_ylim(0, 0.05)\n",
    "        ax1.set_xlabel('$x$', fontsize=16)\n",
    "        ax1.set_ylabel('$y$', fontsize=16)\n",
    "        ax1.set_title(f'Pressure driven problem - {feildname} - timestep{it}', fontsize=16)\n",
    "        plt.savefig(f'./img/img_{feildname}_{it}.png', transparent = False, facecolor = 'white')\n",
    "        plt.close()"
   ]
  },
  {
   "cell_type": "code",
   "execution_count": 5,
   "id": "a8ec6bd6",
   "metadata": {},
   "outputs": [],
   "source": [
    "\n",
    "for feildname in ['P','u','v']:\n",
    "    frames = []\n",
    "    for t in range(max(fileinfo['time'])+1):\n",
    "        image = imageio.v2.imread(f'./img/img_{feildname}_{t}.png')\n",
    "        frames.append(image)\n",
    "    imageio.mimsave(f'gifs/{feildname}.gif', frames, duration = 200) "
   ]
  },
  {
   "cell_type": "code",
   "execution_count": null,
   "id": "565077cd",
   "metadata": {},
   "outputs": [],
   "source": []
  },
  {
   "cell_type": "code",
   "execution_count": null,
   "id": "90d95223",
   "metadata": {},
   "outputs": [],
   "source": []
  },
  {
   "cell_type": "code",
   "execution_count": null,
   "id": "841474d1",
   "metadata": {},
   "outputs": [],
   "source": []
  },
  {
   "cell_type": "code",
   "execution_count": null,
   "id": "409cadcb",
   "metadata": {},
   "outputs": [],
   "source": []
  }
 ],
 "metadata": {
  "kernelspec": {
   "display_name": "Python 3 (ipykernel)",
   "language": "python",
   "name": "python3"
  },
  "language_info": {
   "codemirror_mode": {
    "name": "ipython",
    "version": 3
   },
   "file_extension": ".py",
   "mimetype": "text/x-python",
   "name": "python",
   "nbconvert_exporter": "python",
   "pygments_lexer": "ipython3",
   "version": "3.10.4"
  }
 },
 "nbformat": 4,
 "nbformat_minor": 5
}
